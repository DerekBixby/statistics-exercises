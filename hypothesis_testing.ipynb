{
 "cells": [
  {
   "cell_type": "markdown",
   "id": "0121d5b1",
   "metadata": {},
   "source": [
    "## Overview Questions"
   ]
  },
  {
   "cell_type": "markdown",
   "id": "cf3f7ed6",
   "metadata": {},
   "source": [
    "1. Has network latency gone up since we switched internet service providers?\n",
    "\n",
    "Ho: There has been no change in latency between pre and post switch timeframes\n",
    "\n",
    "Ha: there is a statistically significant mean increase in latency between pre and post switch timeframes\n",
    "\n",
    "T1: There is no population difference, but our post switch sample is non-representative higher than the pre switch sample\n",
    "\n",
    "T2: There is a population difference, but out post switch sample is non-representative the same as the pre switch sample\n",
    "\n",
    "True +: There is a population difference and our post switch sample is statistically significantly higher than the pre switch sample\n",
    "\n",
    "True -: There is no population difference and our post switch sample is not statistically significantly higher than the pre switch sample"
   ]
  },
  {
   "cell_type": "markdown",
   "id": "2da731e5",
   "metadata": {},
   "source": [
    "2. Is the website redesign any good? \n",
    "\n",
    "Ho: There is no increase in visitors to the website since redesign\n",
    "\n",
    "Ha: There is an increase in visitors since the redesign\n",
    "\n",
    "T1: There is no population difference, but there was a non-representational sample showing increase post design\n",
    "\n",
    "T2: There is a population difference, but there is a non-representational sample showing no increase post design\n",
    "\n",
    "True +: There is a population difference and there is a representative sample showing increase post redesign\n",
    "\n",
    "True -: There is no population difference and there is a representative sample showing no increase post design"
   ]
  },
  {
   "cell_type": "markdown",
   "id": "aec8de37",
   "metadata": {},
   "source": [
    "3. Is our television ad driving more sales? \n",
    "\n",
    "Ho: There is no increase in sales between pre and post ad timeframes\n",
    "\n",
    "Ha: There is an increase in sales between pre and post ad timeframes\n",
    "\n",
    "T1: There is no population difference, but there was a non-representative sample showing an increase in sales from pre to post ad timeframes\n",
    "\n",
    "T2: There is a population difference, but there was a non-representative sample showing no increase in sales from pre to post ad timeframes\n",
    "\n",
    "True +: There is a population difference and a representative sample shows increase post ad\n",
    "\n",
    "True -: There is no population difference and a representative sample shows no increase post ad"
   ]
  },
  {
   "cell_type": "code",
   "execution_count": null,
   "id": "96c0aabb",
   "metadata": {},
   "outputs": [],
   "source": []
  }
 ],
 "metadata": {
  "kernelspec": {
   "display_name": "Python 3 (ipykernel)",
   "language": "python",
   "name": "python3"
  },
  "language_info": {
   "codemirror_mode": {
    "name": "ipython",
    "version": 3
   },
   "file_extension": ".py",
   "mimetype": "text/x-python",
   "name": "python",
   "nbconvert_exporter": "python",
   "pygments_lexer": "ipython3",
   "version": "3.10.9"
  }
 },
 "nbformat": 4,
 "nbformat_minor": 5
}
