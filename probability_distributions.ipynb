{
 "cells": [
  {
   "cell_type": "code",
   "execution_count": 3,
   "id": "a395ca6b",
   "metadata": {},
   "outputs": [],
   "source": [
    "import pandas as pd\n",
    "import matplotlib.pyplot as plt\n",
    "import numpy as np\n",
    "from scipy import stats\n"
   ]
  },
  {
   "cell_type": "markdown",
   "id": "751ffde5",
   "metadata": {},
   "source": [
    "1. average number of cars during noon hour drive-up window follows Poisson distribution with a mean of 2. chart distribution. What is the probability that no cars drive up(.pmf)? .135 What is the probability that 3 or more cars drive up(.sf)? .32 How likely is it that at least 1 drives through(.sf)? .865"
   ]
  },
  {
   "cell_type": "code",
   "execution_count": 4,
   "id": "69e88d1d",
   "metadata": {},
   "outputs": [],
   "source": [
    "lamb = 2\n",
    "\n",
    "car_dist = stats.poisson(lamb)"
   ]
  },
  {
   "cell_type": "code",
   "execution_count": 29,
   "id": "cffcc6de",
   "metadata": {},
   "outputs": [
    {
     "data": {
      "text/plain": [
       "<function matplotlib.pyplot.show(close=None, block=None)>"
      ]
     },
     "execution_count": 29,
     "metadata": {},
     "output_type": "execute_result"
    },
    {
     "data": {
      "image/png": "[encoded data removed]",
      "text/plain": [
       "<Figure size 640x480 with 1 Axes>"
      ]
     },
     "metadata": {},
     "output_type": "display_data"
    }
   ],
   "source": [
    "x = np.arange(0,8)\n",
    "y = stats.poisson(lamb).pmf(x)\n",
    "\n",
    "plt.bar(x,y)\n",
    "\n",
    "plt.show"
   ]
  },
  {
   "cell_type": "code",
   "execution_count": 7,
   "id": "23217d74",
   "metadata": {},
   "outputs": [
    {
     "data": {
      "text/plain": [
       "0.1353352832366127"
      ]
     },
     "execution_count": 7,
     "metadata": {},
     "output_type": "execute_result"
    }
   ],
   "source": [
    "car_dist.pmf(0)"
   ]
  },
  {
   "cell_type": "code",
   "execution_count": 8,
   "id": "a772aec1",
   "metadata": {},
   "outputs": [
    {
     "data": {
      "text/plain": [
       "0.32332358381693654"
      ]
     },
     "execution_count": 8,
     "metadata": {},
     "output_type": "execute_result"
    }
   ],
   "source": [
    "car_dist.sf(2)"
   ]
  },
  {
   "cell_type": "code",
   "execution_count": 30,
   "id": "6684e27b",
   "metadata": {},
   "outputs": [
    {
     "data": {
      "text/plain": [
       "0.8646647167633873"
      ]
     },
     "execution_count": 30,
     "metadata": {},
     "output_type": "execute_result"
    }
   ],
   "source": [
    "car_dist.sf(0)"
   ]
  },
  {
   "cell_type": "markdown",
   "id": "6fa4b76e",
   "metadata": {},
   "source": [
    "2. a. grades distributed with mean of 3.0 and SD of .3. "
   ]
  },
  {
   "cell_type": "markdown",
   "id": "2f3875a2",
   "metadata": {},
   "source": [
    "a. What gpa is required to be in the top 5% of class(.isf)? 3.49"
   ]
  },
  {
   "cell_type": "code",
   "execution_count": 11,
   "id": "aaa37bec",
   "metadata": {},
   "outputs": [],
   "source": [
    "mean = 3.0\n",
    "sd = .3\n",
    "\n",
    "grade_dist = stats.norm(mean,sd)\n"
   ]
  },
  {
   "cell_type": "code",
   "execution_count": 12,
   "id": "edcc41c3",
   "metadata": {},
   "outputs": [
    {
     "data": {
      "text/plain": [
       "3.4934560880854417"
      ]
     },
     "execution_count": 12,
     "metadata": {},
     "output_type": "execute_result"
    }
   ],
   "source": [
    "grade_dist.isf(.05)"
   ]
  },
  {
   "cell_type": "markdown",
   "id": "ffdb0408",
   "metadata": {},
   "source": [
    "b. What GPA constitutes bottom 15% of class(.ppf)? 2.69"
   ]
  },
  {
   "cell_type": "code",
   "execution_count": 13,
   "id": "e56d0a0a",
   "metadata": {},
   "outputs": [
    {
     "data": {
      "text/plain": [
       "2.689069983151863"
      ]
     },
     "execution_count": 13,
     "metadata": {},
     "output_type": "execute_result"
    }
   ],
   "source": [
    "grade_dist.ppf(.15)"
   ]
  },
  {
   "cell_type": "markdown",
   "id": "c98fe89a",
   "metadata": {},
   "source": [
    "c. Determine range for 3rd decile. Does a person with 2.8 GPA fall within this? "
   ]
  },
  {
   "cell_type": "code",
   "execution_count": 22,
   "id": "1efb108f",
   "metadata": {},
   "outputs": [
    {
     "data": {
      "text/plain": [
       "nan"
      ]
     },
     "execution_count": 22,
     "metadata": {},
     "output_type": "execute_result"
    }
   ],
   "source": [
    "bottom = grade_dist.ppf(21)\n",
    "\n",
    "top = grade_dist.ppf(30)\n",
    "top\n"
   ]
  },
  {
   "cell_type": "code",
   "execution_count": 31,
   "id": "682d7176",
   "metadata": {},
   "outputs": [
    {
     "data": {
      "text/plain": [
       "array([2.74751363, 2.84267985])"
      ]
     },
     "execution_count": 31,
     "metadata": {},
     "output_type": "execute_result"
    }
   ],
   "source": [
    "range_of_grades = grade_dist.ppf([.2, .3])\n",
    "range_of_grades"
   ]
  },
  {
   "cell_type": "markdown",
   "id": "23ace68d",
   "metadata": {},
   "source": [
    "d. What percentile is a GPA of 3.5? "
   ]
  },
  {
   "cell_type": "code",
   "execution_count": 32,
   "id": "a689c72b",
   "metadata": {},
   "outputs": [
    {
     "data": {
      "text/plain": [
       "0.9522096477271853"
      ]
     },
     "execution_count": 32,
     "metadata": {},
     "output_type": "execute_result"
    }
   ],
   "source": [
    "grade_dist.cdf(3.5)"
   ]
  },
  {
   "cell_type": "markdown",
   "id": "5e5beb53",
   "metadata": {},
   "source": [
    "3. Website has click-through rate of 2%. How likely is 4326 visitors with 97 click-throughs(.pmf)? .0219"
   ]
  },
  {
   "cell_type": "code",
   "execution_count": 23,
   "id": "f285970d",
   "metadata": {},
   "outputs": [],
   "source": [
    "n_visitors = 4326\n",
    "p_of_clicks = .02"
   ]
  },
  {
   "cell_type": "code",
   "execution_count": 24,
   "id": "7d5be21e",
   "metadata": {},
   "outputs": [],
   "source": [
    "website_dist = stats.binom(n_visitors, p_of_clicks)"
   ]
  },
  {
   "cell_type": "code",
   "execution_count": 36,
   "id": "edf6a125",
   "metadata": {},
   "outputs": [
    {
     "data": {
      "text/plain": [
       "0.13975823631416448"
      ]
     },
     "execution_count": 36,
     "metadata": {},
     "output_type": "execute_result"
    }
   ],
   "source": [
    "website_dist.sf(96)"
   ]
  },
  {
   "cell_type": "markdown",
   "id": "3166a157",
   "metadata": {},
   "source": [
    "4. homework has 100 questions where all answers are a probability rounded to hundreths place. Given random answers to each question, what is the probability of 1 of first 60 answers being correct(.sf)? .45"
   ]
  },
  {
   "cell_type": "code",
   "execution_count": 26,
   "id": "08f09796",
   "metadata": {},
   "outputs": [],
   "source": [
    "n_questions = 60\n",
    "p_of_correct = .01"
   ]
  },
  {
   "cell_type": "code",
   "execution_count": 27,
   "id": "f36d982b",
   "metadata": {},
   "outputs": [],
   "source": [
    "homework_dist = stats.binom(n_questions, p_of_correct)"
   ]
  },
  {
   "cell_type": "code",
   "execution_count": 37,
   "id": "11ee34b6",
   "metadata": {},
   "outputs": [
    {
     "data": {
      "text/plain": [
       "0.45284335760923855"
      ]
     },
     "execution_count": 37,
     "metadata": {},
     "output_type": "execute_result"
    }
   ],
   "source": [
    "homework_dist.sf(0)"
   ]
  },
  {
   "cell_type": "markdown",
   "id": "435284e2",
   "metadata": {},
   "source": [
    "5. 3% chance that student will clean break area. 90% of 66 students visit each day. "
   ]
  },
  {
   "cell_type": "code",
   "execution_count": null,
   "id": "6d8956fa",
   "metadata": {},
   "outputs": [],
   "source": [
    "\n"
   ]
  },
  {
   "cell_type": "markdown",
   "id": "d9bd186e",
   "metadata": {},
   "source": [
    "a. how likely is it that the break area will be cleaned in a day?"
   ]
  },
  {
   "cell_type": "code",
   "execution_count": 40,
   "id": "55b2a7f2",
   "metadata": {},
   "outputs": [
    {
     "data": {
      "text/plain": [
       "0.8342199288437352"
      ]
     },
     "execution_count": 40,
     "metadata": {},
     "output_type": "execute_result"
    }
   ],
   "source": [
    "n = round(.9 * 3 * 22)\n",
    "p = .03\n",
    "\n",
    "stats.binom(n, p).sf(0)"
   ]
  },
  {
   "cell_type": "markdown",
   "id": "33b791a6",
   "metadata": {},
   "source": [
    "b. how likely is it that 2 day go without getting cleaned?"
   ]
  },
  {
   "cell_type": "code",
   "execution_count": 41,
   "id": "13ce1c3a",
   "metadata": {},
   "outputs": [
    {
     "data": {
      "text/plain": [
       "0.027483031992576134"
      ]
     },
     "execution_count": 41,
     "metadata": {},
     "output_type": "execute_result"
    }
   ],
   "source": [
    "stats.binom(n * 2, p).pmf(0)"
   ]
  },
  {
   "cell_type": "markdown",
   "id": "d956dd27",
   "metadata": {},
   "source": [
    "c. How likely is it that a week will pass with no cleaning?"
   ]
  },
  {
   "cell_type": "code",
   "execution_count": 42,
   "id": "eee7e0ba",
   "metadata": {},
   "outputs": [
    {
     "data": {
      "text/plain": [
       "0.00012521651388091245"
      ]
     },
     "execution_count": 42,
     "metadata": {},
     "output_type": "execute_result"
    }
   ],
   "source": [
    "stats.binom(n * 5, p).pmf(0)"
   ]
  },
  {
   "cell_type": "markdown",
   "id": "4153f5b9",
   "metadata": {},
   "source": [
    "6. # of people in line. Mean is 15 and SD is 3. It takes 2 minutes to order and 10 minutes to get food. What is the likelihood that you have 15 minutes to eat food within 60 minute lunch period? "
   ]
  },
  {
   "cell_type": "code",
   "execution_count": 43,
   "id": "d07060f9",
   "metadata": {},
   "outputs": [
    {
     "data": {
      "text/plain": [
       "0.6914624612740131"
      ]
     },
     "execution_count": 43,
     "metadata": {},
     "output_type": "execute_result"
    }
   ],
   "source": [
    "mean = 15 * 2\n",
    "sd = 3 * 2\n",
    "\n",
    "#(60- 15- 10 -2 = 33)\n",
    "time_dist = stats.norm(mean,sd)\n",
    "time_dist.cdf(33)\n"
   ]
  },
  {
   "cell_type": "code",
   "execution_count": null,
   "id": "0b37372e",
   "metadata": {},
   "outputs": [],
   "source": []
  },
  {
   "cell_type": "markdown",
   "id": "34749e06",
   "metadata": {},
   "source": [
    "7. connect to employees database. Find average salary and SD. Use normal distribution to model these salaries and then compare to the dataset. "
   ]
  },
  {
   "cell_type": "code",
   "execution_count": null,
   "id": "b04c7cee",
   "metadata": {},
   "outputs": [],
   "source": [
    "import pandas as pd\n",
    "import env\n",
    "\n",
    "url = env.get_db_url\n",
    "query = '''\n",
    "SELECT *\n",
    "FROM salaries s\n",
    "WHERE s.to_date > NOW()\n",
    "'''\n",
    "\n",
    "\n",
    "salaries = pd.read_sql(query,url)"
   ]
  },
  {
   "cell_type": "markdown",
   "id": "c54033f8",
   "metadata": {},
   "source": [
    "a. What percent of employees earn less than 60000?"
   ]
  },
  {
   "cell_type": "code",
   "execution_count": null,
   "id": "4ff83d95",
   "metadata": {},
   "outputs": [],
   "source": [
    "mean = salaries.saraly.mean()\n",
    "SD = salaries.salary.std()\n",
    "\n",
    "stats.norm(mean, SD).cdf(60000)"
   ]
  },
  {
   "cell_type": "markdown",
   "id": "6900cf05",
   "metadata": {},
   "source": [
    "b. what percent earn more than 95000"
   ]
  },
  {
   "cell_type": "code",
   "execution_count": null,
   "id": "b992091a",
   "metadata": {},
   "outputs": [],
   "source": [
    "stats.norm(mean, SD).sf(95000)"
   ]
  },
  {
   "cell_type": "markdown",
   "id": "17b6925d",
   "metadata": {},
   "source": [
    "c. what percent earn between 65000 and 80000"
   ]
  },
  {
   "cell_type": "code",
   "execution_count": null,
   "id": "bd2f8101",
   "metadata": {},
   "outputs": [],
   "source": [
    "np.diff(stats.norm(mean, SD).cdf([65000, 80000]))"
   ]
  },
  {
   "cell_type": "markdown",
   "id": "dbf2d44b",
   "metadata": {},
   "source": [
    "d. what do top 5% of employees make? "
   ]
  },
  {
   "cell_type": "code",
   "execution_count": null,
   "id": "49fd646c",
   "metadata": {},
   "outputs": [],
   "source": [
    "stats.norm(mean, SD).isf(0.05)"
   ]
  }
 ],
 "metadata": {
  "kernelspec": {
   "display_name": "Python 3 (ipykernel)",
   "language": "python",
   "name": "python3"
  },
  "language_info": {
   "codemirror_mode": {
    "name": "ipython",
    "version": 3
   },
   "file_extension": ".py",
   "mimetype": "text/x-python",
   "name": "python",
   "nbconvert_exporter": "python",
   "pygments_lexer": "ipython3",
   "version": "3.10.9"
  }
 },
 "nbformat": 4,
 "nbformat_minor": 5
}
